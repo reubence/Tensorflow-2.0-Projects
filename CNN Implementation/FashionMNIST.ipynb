{
  "nbformat": 4,
  "nbformat_minor": 0,
  "metadata": {
    "colab": {
      "name": "FashionMNIST.ipynb",
      "provenance": []
    },
    "kernelspec": {
      "name": "python3",
      "display_name": "Python 3"
    }
  },
  "cells": [
    {
      "cell_type": "code",
      "metadata": {
        "id": "P-lGk8KrUu7W",
        "colab_type": "code",
        "colab": {}
      },
      "source": [
        "import tensorflow as tf"
      ],
      "execution_count": 0,
      "outputs": []
    },
    {
      "cell_type": "code",
      "metadata": {
        "id": "qGg2BabEU0nY",
        "colab_type": "code",
        "colab": {}
      },
      "source": [
        "(x_train, y_train), (x_test, y_test) = tf.keras.datasets.fashion_mnist.load_data( )"
      ],
      "execution_count": 0,
      "outputs": []
    },
    {
      "cell_type": "code",
      "metadata": {
        "id": "YhMjmu7SVWDi",
        "colab_type": "code",
        "colab": {
          "base_uri": "https://localhost:8080/",
          "height": 34
        },
        "outputId": "a92dbb6a-4aa0-4e95-8fcb-a5a615c9adeb"
      },
      "source": [
        "x_train.shape # 28 * 28 is a greyscale image...need to add one more dimension"
      ],
      "execution_count": 59,
      "outputs": [
        {
          "output_type": "execute_result",
          "data": {
            "text/plain": [
              "(60000, 28, 28)"
            ]
          },
          "metadata": {
            "tags": []
          },
          "execution_count": 59
        }
      ]
    },
    {
      "cell_type": "code",
      "metadata": {
        "id": "NOUm9nwmaAT_",
        "colab_type": "code",
        "colab": {}
      },
      "source": [
        "x_train = x_train/255\n",
        "x_test = x_test/255\n",
        "x_train = np.expand_dims(x_train,-1)\n",
        "x_test = np.expand_dims(x_test,-1)"
      ],
      "execution_count": 0,
      "outputs": []
    },
    {
      "cell_type": "code",
      "metadata": {
        "id": "vZQMd7dVaSeV",
        "colab_type": "code",
        "colab": {
          "base_uri": "https://localhost:8080/",
          "height": 34
        },
        "outputId": "60325f73-0a25-4982-d5f2-0bef88ca4694"
      },
      "source": [
        "x_train.shape  #Fixed"
      ],
      "execution_count": 61,
      "outputs": [
        {
          "output_type": "execute_result",
          "data": {
            "text/plain": [
              "(60000, 28, 28, 1)"
            ]
          },
          "metadata": {
            "tags": []
          },
          "execution_count": 61
        }
      ]
    },
    {
      "cell_type": "code",
      "metadata": {
        "id": "8fWOrAPBVczu",
        "colab_type": "code",
        "colab": {
          "base_uri": "https://localhost:8080/",
          "height": 34
        },
        "outputId": "c3d5c9f6-819e-4d94-b2d0-9d82d1e12386"
      },
      "source": [
        "y_train.shape # this looks perfectly fine, but we need the number of classes in y_train"
      ],
      "execution_count": 62,
      "outputs": [
        {
          "output_type": "execute_result",
          "data": {
            "text/plain": [
              "(60000,)"
            ]
          },
          "metadata": {
            "tags": []
          },
          "execution_count": 62
        }
      ]
    },
    {
      "cell_type": "code",
      "metadata": {
        "id": "CqEOYgPoZ9j-",
        "colab_type": "code",
        "colab": {
          "base_uri": "https://localhost:8080/",
          "height": 34
        },
        "outputId": "c756f20a-8228-4d32-a489-d6b2692a59d6"
      },
      "source": [
        "K = len(set(y_train)) #set returns the unique elements\n",
        "print('number of classes :', K)"
      ],
      "execution_count": 63,
      "outputs": [
        {
          "output_type": "stream",
          "text": [
            "number of classes : 10\n"
          ],
          "name": "stdout"
        }
      ]
    },
    {
      "cell_type": "code",
      "metadata": {
        "id": "KqUPnsuHwNyF",
        "colab_type": "code",
        "colab": {
          "base_uri": "https://localhost:8080/",
          "height": 34
        },
        "outputId": "6eef2e81-a86e-4a0c-af5e-a17b3f00dc5a"
      },
      "source": [
        "N = 8\n",
        "P = 0\n",
        "S = 2\n",
        "((N + 2*P)/S)+1"
      ],
      "execution_count": 64,
      "outputs": [
        {
          "output_type": "execute_result",
          "data": {
            "text/plain": [
              "5.0"
            ]
          },
          "metadata": {
            "tags": []
          },
          "execution_count": 64
        }
      ]
    },
    {
      "cell_type": "markdown",
      "metadata": {
        "id": "B1djC8p_wZdy",
        "colab_type": "text"
      },
      "source": [
        "### After first convolution : **15 * 15 * 32**\n",
        "### After second convolution : **8 * 8 * 64**\n",
        "### After third convolution : **5 * 5 * 128**\n"
      ]
    },
    {
      "cell_type": "code",
      "metadata": {
        "id": "VoMPIWfIwthC",
        "colab_type": "code",
        "colab": {
          "base_uri": "https://localhost:8080/",
          "height": 34
        },
        "outputId": "10a618de-3869-407b-ccd9-95fb033f72ba"
      },
      "source": [
        "print(\"The size of the output before passing to dense layers is\", 5 * 5 * 128)"
      ],
      "execution_count": 65,
      "outputs": [
        {
          "output_type": "stream",
          "text": [
            "The size of the output before passing to dense layers is 3200\n"
          ],
          "name": "stdout"
        }
      ]
    },
    {
      "cell_type": "markdown",
      "metadata": {
        "id": "QQIiZr2CaoP4",
        "colab_type": "text"
      },
      "source": [
        "# Building the CNN"
      ]
    },
    {
      "cell_type": "code",
      "metadata": {
        "id": "a4RB_Q1nVqZz",
        "colab_type": "code",
        "colab": {}
      },
      "source": [
        "from tensorflow.keras.layers import Input, Conv2D, Flatten, Dropout, Dense\n",
        "from tensorflow.keras.models import Model\n",
        "import numpy as np\n",
        "import matplotlib.pyplot as plt "
      ],
      "execution_count": 0,
      "outputs": []
    },
    {
      "cell_type": "code",
      "metadata": {
        "id": "Mu-brnYwZiKr",
        "colab_type": "code",
        "colab": {}
      },
      "source": [
        "i = Input(shape = (x_train[0].shape))\n",
        "x = Conv2D(32, (3,3), strides = 2, activation = 'relu')(i)\n",
        "x = Conv2D(64, (3,3), strides =  2, activation = 'relu')(x)\n",
        "x = Conv2D(128, (3,3), strides = 2, activation = 'relu')(x)\n",
        "x = Flatten()(x)\n",
        "x = Dropout(0.2)(x)\n",
        "x = Dense(512, activation='relu')(x)\n",
        "x = Dropout(0.2)(x)\n",
        "x = Dense(K, activation='softmax')(x)\n",
        "\n",
        "model = Model(i,x)"
      ],
      "execution_count": 0,
      "outputs": []
    },
    {
      "cell_type": "code",
      "metadata": {
        "id": "vkbQ_gk0e6P_",
        "colab_type": "code",
        "colab": {}
      },
      "source": [
        "model.compile(optimizer='adam',\n",
        "              loss = 'sparse_categorical_crossentropy',\n",
        "              metrics = ['accuracy'])"
      ],
      "execution_count": 0,
      "outputs": []
    },
    {
      "cell_type": "code",
      "metadata": {
        "id": "5BivzmsafMeH",
        "colab_type": "code",
        "colab": {
          "base_uri": "https://localhost:8080/",
          "height": 521
        },
        "outputId": "ab0bcc27-8c91-441e-b305-6826c266d662"
      },
      "source": [
        "r = model.fit(x_train,y_train,validation_data=(x_test,y_test),epochs=15)"
      ],
      "execution_count": 75,
      "outputs": [
        {
          "output_type": "stream",
          "text": [
            "Epoch 1/15\n",
            "1875/1875 [==============================] - 25s 14ms/step - loss: 0.5159 - accuracy: 0.8085 - val_loss: 0.4141 - val_accuracy: 0.8478\n",
            "Epoch 2/15\n",
            "1875/1875 [==============================] - 26s 14ms/step - loss: 0.3598 - accuracy: 0.8666 - val_loss: 0.3427 - val_accuracy: 0.8709\n",
            "Epoch 3/15\n",
            "1875/1875 [==============================] - 26s 14ms/step - loss: 0.3124 - accuracy: 0.8830 - val_loss: 0.3311 - val_accuracy: 0.8782\n",
            "Epoch 4/15\n",
            "1875/1875 [==============================] - 25s 14ms/step - loss: 0.2823 - accuracy: 0.8933 - val_loss: 0.2977 - val_accuracy: 0.8906\n",
            "Epoch 5/15\n",
            "1875/1875 [==============================] - 25s 13ms/step - loss: 0.2549 - accuracy: 0.9031 - val_loss: 0.2945 - val_accuracy: 0.8923\n",
            "Epoch 6/15\n",
            "1875/1875 [==============================] - 25s 14ms/step - loss: 0.2327 - accuracy: 0.9123 - val_loss: 0.2902 - val_accuracy: 0.8964\n",
            "Epoch 7/15\n",
            "1875/1875 [==============================] - 25s 14ms/step - loss: 0.2170 - accuracy: 0.9172 - val_loss: 0.2985 - val_accuracy: 0.8968\n",
            "Epoch 8/15\n",
            "1875/1875 [==============================] - 26s 14ms/step - loss: 0.1988 - accuracy: 0.9246 - val_loss: 0.3146 - val_accuracy: 0.8958\n",
            "Epoch 9/15\n",
            "1875/1875 [==============================] - 26s 14ms/step - loss: 0.1866 - accuracy: 0.9293 - val_loss: 0.3109 - val_accuracy: 0.8968\n",
            "Epoch 10/15\n",
            "1875/1875 [==============================] - 26s 14ms/step - loss: 0.1714 - accuracy: 0.9345 - val_loss: 0.3197 - val_accuracy: 0.8996\n",
            "Epoch 11/15\n",
            "1875/1875 [==============================] - 26s 14ms/step - loss: 0.1604 - accuracy: 0.9376 - val_loss: 0.3350 - val_accuracy: 0.8926\n",
            "Epoch 12/15\n",
            "1875/1875 [==============================] - 26s 14ms/step - loss: 0.1497 - accuracy: 0.9428 - val_loss: 0.3225 - val_accuracy: 0.9036\n",
            "Epoch 13/15\n",
            "1875/1875 [==============================] - 26s 14ms/step - loss: 0.1457 - accuracy: 0.9440 - val_loss: 0.3140 - val_accuracy: 0.9016\n",
            "Epoch 14/15\n",
            "1875/1875 [==============================] - 25s 13ms/step - loss: 0.1372 - accuracy: 0.9467 - val_loss: 0.3584 - val_accuracy: 0.8964\n",
            "Epoch 15/15\n",
            "1875/1875 [==============================] - 25s 13ms/step - loss: 0.1302 - accuracy: 0.9500 - val_loss: 0.3671 - val_accuracy: 0.8994\n"
          ],
          "name": "stdout"
        }
      ]
    },
    {
      "cell_type": "code",
      "metadata": {
        "id": "0hN7TL-WfWao",
        "colab_type": "code",
        "colab": {
          "base_uri": "https://localhost:8080/",
          "height": 282
        },
        "outputId": "5b029a32-4e63-49b6-aa5e-f8be907aa90c"
      },
      "source": [
        "plt.plot(r.history['loss'],label = \"loss\")\n",
        "plt.plot(r.history['val_loss'],label = \"loss\")\n",
        "\n",
        "plt.legend()"
      ],
      "execution_count": 76,
      "outputs": [
        {
          "output_type": "execute_result",
          "data": {
            "text/plain": [
              "<matplotlib.legend.Legend at 0x7f9d5cb7b940>"
            ]
          },
          "metadata": {
            "tags": []
          },
          "execution_count": 76
        },
        {
          "output_type": "display_data",
          "data": {
            "image/png": "[encoded data removed]",
            "text/plain": [
              "<Figure size 432x288 with 1 Axes>"
            ]
          },
          "metadata": {
            "tags": [],
            "needs_background": "light"
          }
        }
      ]
    },
    {
      "cell_type": "code",
      "metadata": {
        "id": "uueUGmoJ3tKD",
        "colab_type": "code",
        "colab": {
          "base_uri": "https://localhost:8080/",
          "height": 282
        },
        "outputId": "ad219432-0882-4b24-c077-42c8b4ffeef1"
      },
      "source": [
        "plt.plot(r.history['accuracy'],label = \"loss\")\n",
        "plt.plot(r.history['val_accuracy'],label = \"loss\")\n",
        "\n",
        "plt.legend()"
      ],
      "execution_count": 79,
      "outputs": [
        {
          "output_type": "execute_result",
          "data": {
            "text/plain": [
              "<matplotlib.legend.Legend at 0x7f9d4bb27ef0>"
            ]
          },
          "metadata": {
            "tags": []
          },
          "execution_count": 79
        },
        {
          "output_type": "display_data",
          "data": {
            "image/png": "[encoded data removed]",
            "text/plain": [
              "<Figure size 432x288 with 1 Axes>"
            ]
          },
          "metadata": {
            "tags": [],
            "needs_background": "light"
          }
        }
      ]
    },
    {
      "cell_type": "code",
      "metadata": {
        "id": "IP2ovh-phM0w",
        "colab_type": "code",
        "colab": {
          "base_uri": "https://localhost:8080/",
          "height": 496
        },
        "outputId": "c3d02445-2125-4d1c-f62f-c00edc649ee9"
      },
      "source": [
        "# Plot confusion matrix\n",
        "from sklearn.metrics import confusion_matrix\n",
        "import numpy as np\n",
        "import itertools\n",
        "\n",
        "def plot_confusion_matrix(cm, classes,\n",
        "                          normalize=False,\n",
        "                          title='Confusion matrix',\n",
        "                          cmap=plt.cm.Blues):\n",
        "  \"\"\"\n",
        "  This function prints and plots the confusion matrix.\n",
        "  Normalization can be applied by setting `normalize=True`.\n",
        "  \"\"\"\n",
        "  if normalize:\n",
        "      cm = cm.astype('float') / cm.sum(axis=1)[:, np.newaxis]\n",
        "      print(\"Normalized confusion matrix\")\n",
        "  else:\n",
        "      print('Confusion matrix, without normalization')\n",
        "\n",
        "  print(cm)\n",
        "\n",
        "  plt.imshow(cm, interpolation='nearest', cmap=cmap)\n",
        "  plt.title(title)\n",
        "  plt.colorbar()\n",
        "  tick_marks = np.arange(len(classes))\n",
        "  plt.xticks(tick_marks, classes, rotation=45)\n",
        "  plt.yticks(tick_marks, classes)\n",
        "\n",
        "  fmt = '.2f' if normalize else 'd'\n",
        "  thresh = cm.max() / 2.\n",
        "  for i, j in itertools.product(range(cm.shape[0]), range(cm.shape[1])):\n",
        "      plt.text(j, i, format(cm[i, j], fmt),\n",
        "               horizontalalignment=\"center\",\n",
        "               color=\"white\" if cm[i, j] > thresh else \"black\")\n",
        "\n",
        "  plt.tight_layout()\n",
        "  plt.ylabel('True label')\n",
        "  plt.xlabel('Predicted label')\n",
        "  plt.show()\n",
        "\n",
        "\n",
        "p_test = model.predict(x_test).argmax(axis=1)\n",
        "cm = confusion_matrix(y_test, p_test)\n",
        "plot_confusion_matrix(cm, list(range(10)))\n",
        "\n",
        "# Do these results make sense?\n",
        "# It's easy to confuse 9 <--> 4, 9 <--> 7, 2 <--> 7, etc."
      ],
      "execution_count": 77,
      "outputs": [
        {
          "output_type": "stream",
          "text": [
            "Confusion matrix, without normalization\n",
            "[[838   0  28  11   4   1 113   0   5   0]\n",
            " [  1 978   0  16   2   0   1   0   2   0]\n",
            " [ 14   1 824   8  65   0  86   0   2   0]\n",
            " [ 14   5  15 889  42   1  34   0   0   0]\n",
            " [  0   2  40  17 839   1  99   0   2   0]\n",
            " [  1   0   0   0   0 980   0  14   2   3]\n",
            " [ 97   0  48  16  73   0 758   0   8   0]\n",
            " [  0   0   0   0   0  15   0 961   0  24]\n",
            " [  5   0   6   3   5   2   8   3 968   0]\n",
            " [  1   0   0   0   0   9   0  31   0 959]]\n"
          ],
          "name": "stdout"
        },
        {
          "output_type": "display_data",
          "data": {
            "image/png": "[encoded data removed]",
            "text/plain": [
              "<Figure size 432x288 with 2 Axes>"
            ]
          },
          "metadata": {
            "tags": [],
            "needs_background": "light"
          }
        }
      ]
    },
    {
      "cell_type": "code",
      "metadata": {
        "id": "vT0zizd30HdD",
        "colab_type": "code",
        "colab": {
          "base_uri": "https://localhost:8080/",
          "height": 281
        },
        "outputId": "51da6425-a330-42c9-bc25-7072cf31e8ab"
      },
      "source": [
        "# Show some misclassified examples\n",
        "misclassified_idx = np.where(p_test != y_test)[0]\n",
        "i = np.random.choice(misclassified_idx)\n",
        "plt.imshow(x_test[i].reshape(28,28), cmap='gray')\n",
        "plt.title(\"True label: %s Predicted: %s\" % (y_test[i], p_test[i]));\n"
      ],
      "execution_count": 84,
      "outputs": [
        {
          "output_type": "display_data",
          "data": {
            "image/png": "[encoded data removed]",
            "text/plain": [
              "<Figure size 432x288 with 1 Axes>"
            ]
          },
          "metadata": {
            "tags": [],
            "needs_background": "light"
          }
        }
      ]
    },
    {
      "cell_type": "code",
      "metadata": {
        "id": "kXciQdx20Jxo",
        "colab_type": "code",
        "colab": {}
      },
      "source": [
        ""
      ],
      "execution_count": 0,
      "outputs": []
    }
  ]
}