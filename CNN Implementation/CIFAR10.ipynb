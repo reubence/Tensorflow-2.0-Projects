{
  "nbformat": 4,
  "nbformat_minor": 0,
  "metadata": {
    "colab": {
      "name": "CIFAR10.ipynb",
      "provenance": []
    },
    "kernelspec": {
      "name": "python3",
      "display_name": "Python 3"
    }
  },
  "cells": [
    {
      "cell_type": "code",
      "metadata": {
        "id": "loKTQU94ZFIS",
        "colab_type": "code",
        "colab": {}
      },
      "source": [
        "import tensorflow as tf\n",
        "import numpy as np\n",
        "import matplotlib.pyplot as plt\n",
        "from tensorflow.keras.layers import Input,Dense,Flatten,Conv2D,Dropout,GlobalMaxPool2D\n",
        "from tensorflow.keras.models import Model"
      ],
      "execution_count": 0,
      "outputs": []
    },
    {
      "cell_type": "code",
      "metadata": {
        "id": "nI_QGdcOZK2J",
        "colab_type": "code",
        "colab": {}
      },
      "source": [
        "(x_train, y_train), (x_test, y_test) = tf.keras.datasets.cifar10.load_data()"
      ],
      "execution_count": 0,
      "outputs": []
    },
    {
      "cell_type": "code",
      "metadata": {
        "id": "B1p4F6UeZfL9",
        "colab_type": "code",
        "colab": {}
      },
      "source": [
        "x_train , x_test = x_train/255 , x_test/255"
      ],
      "execution_count": 0,
      "outputs": []
    },
    {
      "cell_type": "code",
      "metadata": {
        "id": "W_QspATMZklW",
        "colab_type": "code",
        "colab": {
          "base_uri": "https://localhost:8080/",
          "height": 34
        },
        "outputId": "014669cf-6af4-4b07-aa43-067ddaf67f81"
      },
      "source": [
        "x_train.shape"
      ],
      "execution_count": 21,
      "outputs": [
        {
          "output_type": "execute_result",
          "data": {
            "text/plain": [
              "(50000, 32, 32, 3)"
            ]
          },
          "metadata": {
            "tags": []
          },
          "execution_count": 21
        }
      ]
    },
    {
      "cell_type": "code",
      "metadata": {
        "id": "-UjKZK5UZl96",
        "colab_type": "code",
        "colab": {
          "base_uri": "https://localhost:8080/",
          "height": 34
        },
        "outputId": "3a61e5bf-194d-4675-bb18-38f6d678576a"
      },
      "source": [
        "y_train.shape #tf expects an array of shape N... not N by N"
      ],
      "execution_count": 22,
      "outputs": [
        {
          "output_type": "execute_result",
          "data": {
            "text/plain": [
              "(50000, 1)"
            ]
          },
          "metadata": {
            "tags": []
          },
          "execution_count": 22
        }
      ]
    },
    {
      "cell_type": "code",
      "metadata": {
        "id": "n8E0D53-Zn2X",
        "colab_type": "code",
        "colab": {}
      },
      "source": [
        "y_test,y_train = y_test.flatten(),y_train.flatten() "
      ],
      "execution_count": 0,
      "outputs": []
    },
    {
      "cell_type": "code",
      "metadata": {
        "id": "nKhJ2qpQamXA",
        "colab_type": "code",
        "colab": {
          "base_uri": "https://localhost:8080/",
          "height": 34
        },
        "outputId": "520d105a-9ab5-4740-bd6a-d81b43effa77"
      },
      "source": [
        "y_train.shape # FIxed"
      ],
      "execution_count": 10,
      "outputs": [
        {
          "output_type": "execute_result",
          "data": {
            "text/plain": [
              "(50000,)"
            ]
          },
          "metadata": {
            "tags": []
          },
          "execution_count": 10
        }
      ]
    },
    {
      "cell_type": "code",
      "metadata": {
        "id": "I2UwOtCuan5S",
        "colab_type": "code",
        "colab": {
          "base_uri": "https://localhost:8080/",
          "height": 34
        },
        "outputId": "69de9d4e-d971-4355-fb2a-223dd509ab83"
      },
      "source": [
        "K = len(set(y_train))\n",
        "print(\"The number of classes\",K)"
      ],
      "execution_count": 12,
      "outputs": [
        {
          "output_type": "stream",
          "text": [
            "The number of classes 10\n"
          ],
          "name": "stdout"
        }
      ]
    },
    {
      "cell_type": "code",
      "metadata": {
        "id": "Havl75z2asMi",
        "colab_type": "code",
        "colab": {}
      },
      "source": [
        "i = Input(shape =x_train[0].shape)\n",
        "x = Conv2D(32,(3,3),strides=2,activation='relu')(i)\n",
        "x = Conv2D(64,(3,3),strides=2,activation='relu')(x)\n",
        "x = Conv2D(128,(3,3),strides=2,activation='relu')(x)\n",
        "x = Flatten()(x)\n",
        "x = Dropout(0.2)(x)\n",
        "x = Dense(1024,activation='relu')(x)\n",
        "x = Dropout(0.2)(x)\n",
        "x = Dense(K,activation='softmax')(x)"
      ],
      "execution_count": 0,
      "outputs": []
    },
    {
      "cell_type": "code",
      "metadata": {
        "id": "eojiZ7DAcEf8",
        "colab_type": "code",
        "colab": {}
      },
      "source": [
        "model = Model(i,x)"
      ],
      "execution_count": 0,
      "outputs": []
    },
    {
      "cell_type": "code",
      "metadata": {
        "id": "0Hsa7gR3c8n2",
        "colab_type": "code",
        "colab": {
          "base_uri": "https://localhost:8080/",
          "height": 521
        },
        "outputId": "68590b53-b5e7-40cb-9f9b-2d634ebc66b7"
      },
      "source": [
        "model.compile(optimizer='adam',loss = \"sparse_categorical_crossentropy\",metrics = ['accuracy'])\n",
        "r = model.fit(x_train,y_train,validation_data=(x_test,y_test),epochs=15)"
      ],
      "execution_count": 26,
      "outputs": [
        {
          "output_type": "stream",
          "text": [
            "Epoch 1/15\n",
            "1563/1563 [==============================] - 47s 30ms/step - loss: 1.5133 - accuracy: 0.4486 - val_loss: 1.2523 - val_accuracy: 0.5500\n",
            "Epoch 2/15\n",
            "1563/1563 [==============================] - 44s 28ms/step - loss: 1.1696 - accuracy: 0.5817 - val_loss: 1.0624 - val_accuracy: 0.6174\n",
            "Epoch 3/15\n",
            "1563/1563 [==============================] - 44s 28ms/step - loss: 1.0098 - accuracy: 0.6416 - val_loss: 0.9873 - val_accuracy: 0.6477\n",
            "Epoch 4/15\n",
            "1563/1563 [==============================] - 44s 28ms/step - loss: 0.8941 - accuracy: 0.6837 - val_loss: 0.9196 - val_accuracy: 0.6777\n",
            "Epoch 5/15\n",
            "1563/1563 [==============================] - 44s 28ms/step - loss: 0.7907 - accuracy: 0.7207 - val_loss: 0.9162 - val_accuracy: 0.6860\n",
            "Epoch 6/15\n",
            "1563/1563 [==============================] - 44s 28ms/step - loss: 0.7037 - accuracy: 0.7504 - val_loss: 0.9153 - val_accuracy: 0.6776\n",
            "Epoch 7/15\n",
            "1563/1563 [==============================] - 43s 28ms/step - loss: 0.6225 - accuracy: 0.7785 - val_loss: 0.9364 - val_accuracy: 0.6836\n",
            "Epoch 8/15\n",
            "1563/1563 [==============================] - 43s 28ms/step - loss: 0.5531 - accuracy: 0.8033 - val_loss: 0.9253 - val_accuracy: 0.6965\n",
            "Epoch 9/15\n",
            "1563/1563 [==============================] - 43s 28ms/step - loss: 0.4933 - accuracy: 0.8231 - val_loss: 0.9319 - val_accuracy: 0.6988\n",
            "Epoch 10/15\n",
            "1563/1563 [==============================] - 44s 28ms/step - loss: 0.4361 - accuracy: 0.8459 - val_loss: 0.9507 - val_accuracy: 0.6958\n",
            "Epoch 11/15\n",
            "1563/1563 [==============================] - 44s 28ms/step - loss: 0.3952 - accuracy: 0.8581 - val_loss: 0.9593 - val_accuracy: 0.7005\n",
            "Epoch 12/15\n",
            "1563/1563 [==============================] - 43s 28ms/step - loss: 0.3595 - accuracy: 0.8710 - val_loss: 1.0371 - val_accuracy: 0.6916\n",
            "Epoch 13/15\n",
            "1563/1563 [==============================] - 43s 28ms/step - loss: 0.3329 - accuracy: 0.8805 - val_loss: 1.0520 - val_accuracy: 0.6980\n",
            "Epoch 14/15\n",
            "1563/1563 [==============================] - 44s 28ms/step - loss: 0.3103 - accuracy: 0.8901 - val_loss: 1.0747 - val_accuracy: 0.7031\n",
            "Epoch 15/15\n",
            "1563/1563 [==============================] - 46s 30ms/step - loss: 0.2943 - accuracy: 0.8974 - val_loss: 1.0864 - val_accuracy: 0.6973\n"
          ],
          "name": "stdout"
        }
      ]
    },
    {
      "cell_type": "code",
      "metadata": {
        "id": "QQIVbecFdRnU",
        "colab_type": "code",
        "colab": {
          "base_uri": "https://localhost:8080/",
          "height": 282
        },
        "outputId": "e24f5d24-62f6-40de-803f-76f4023e91c8"
      },
      "source": [
        "plt.plot(r.history['accuracy'],label = 'acc')\n",
        "plt.plot(r.history['val_accuracy'],label = 'val_acc')\n",
        "plt.legend()"
      ],
      "execution_count": 28,
      "outputs": [
        {
          "output_type": "execute_result",
          "data": {
            "text/plain": [
              "<matplotlib.legend.Legend at 0x7f1d2750cda0>"
            ]
          },
          "metadata": {
            "tags": []
          },
          "execution_count": 28
        },
        {
          "output_type": "display_data",
          "data": {
            "image/png": "[encoded data removed]",
            "text/plain": [
              "<Figure size 432x288 with 1 Axes>"
            ]
          },
          "metadata": {
            "tags": [],
            "needs_background": "light"
          }
        }
      ]
    },
    {
      "cell_type": "code",
      "metadata": {
        "id": "U8bUl-L0gWL2",
        "colab_type": "code",
        "colab": {
          "base_uri": "https://localhost:8080/",
          "height": 282
        },
        "outputId": "094c5f06-8093-449c-b531-57157144abe2"
      },
      "source": [
        "plt.plot(r.history['loss'],label = 'loss')\n",
        "plt.plot(r.history['val_loss'],label = 'val_loss')\n",
        "plt.legend()"
      ],
      "execution_count": 32,
      "outputs": [
        {
          "output_type": "execute_result",
          "data": {
            "text/plain": [
              "<matplotlib.legend.Legend at 0x7f1d23bcc128>"
            ]
          },
          "metadata": {
            "tags": []
          },
          "execution_count": 32
        },
        {
          "output_type": "display_data",
          "data": {
            "image/png": "[encoded data removed]",
            "text/plain": [
              "<Figure size 432x288 with 1 Axes>"
            ]
          },
          "metadata": {
            "tags": [],
            "needs_background": "light"
          }
        }
      ]
    },
    {
      "cell_type": "code",
      "metadata": {
        "id": "NuazkHcngd8V",
        "colab_type": "code",
        "colab": {
          "base_uri": "https://localhost:8080/",
          "height": 496
        },
        "outputId": "9d4bc477-b7eb-49bc-aaca-39bf4d98b3b4"
      },
      "source": [
        "# Plot confusion matrix\n",
        "from sklearn.metrics import confusion_matrix\n",
        "import numpy as np\n",
        "import itertools\n",
        "\n",
        "def plot_confusion_matrix(cm, classes,\n",
        "                          normalize=False,\n",
        "                          title='Confusion matrix',\n",
        "                          cmap=plt.cm.Blues):\n",
        "  \"\"\"\n",
        "  This function prints and plots the confusion matrix.\n",
        "  Normalization can be applied by setting `normalize=True`.\n",
        "  \"\"\"\n",
        "  if normalize:\n",
        "      cm = cm.astype('float') / cm.sum(axis=1)[:, np.newaxis]\n",
        "      print(\"Normalized confusion matrix\")\n",
        "  else:\n",
        "      print('Confusion matrix, without normalization')\n",
        "\n",
        "  print(cm)\n",
        "\n",
        "  plt.imshow(cm, interpolation='nearest', cmap=cmap)\n",
        "  plt.title(title)\n",
        "  plt.colorbar()\n",
        "  tick_marks = np.arange(len(classes))\n",
        "  plt.xticks(tick_marks, classes, rotation=45)\n",
        "  plt.yticks(tick_marks, classes)\n",
        "\n",
        "  fmt = '.2f' if normalize else 'd'\n",
        "  thresh = cm.max() / 2.\n",
        "  for i, j in itertools.product(range(cm.shape[0]), range(cm.shape[1])):\n",
        "      plt.text(j, i, format(cm[i, j], fmt),\n",
        "               horizontalalignment=\"center\",\n",
        "               color=\"white\" if cm[i, j] > thresh else \"black\")\n",
        "\n",
        "  plt.tight_layout()\n",
        "  plt.ylabel('True label')\n",
        "  plt.xlabel('Predicted label')\n",
        "  plt.show()\n",
        "\n",
        "\n",
        "p_test = model.predict(x_test).argmax(axis=1)\n",
        "cm = confusion_matrix(y_test, p_test)\n",
        "plot_confusion_matrix(cm, list(range(10)))\n",
        "\n",
        "# Do these results make sense?\n",
        "# It's easy to confuse 9 <--> 4, 9 <--> 7, 2 <--> 7, etc.\n"
      ],
      "execution_count": 33,
      "outputs": [
        {
          "output_type": "stream",
          "text": [
            "Confusion matrix, without normalization\n",
            "[[747  18  46  31  20   7   5  10  96  20]\n",
            " [ 15 834  11  12   1   9  11   2  30  75]\n",
            " [ 70   9 589  58 100  75  45  31  19   4]\n",
            " [ 24   7  66 517  68 206  51  25  13  23]\n",
            " [ 19   3  92  73 651  47  40  62  12   1]\n",
            " [  9   9  51 193  58 605  24  41   7   3]\n",
            " [  8  10  51  73  57  44 733   6  11   7]\n",
            " [ 19   4  29  48  64  67  12 739   4  14]\n",
            " [ 44  34  18  26   8   8   4   3 842  13]\n",
            " [ 50 114  10  25   3  14   9  12  47 716]]\n"
          ],
          "name": "stdout"
        },
        {
          "output_type": "display_data",
          "data": {
            "image/png": "[encoded data removed]",
            "text/plain": [
              "<Figure size 432x288 with 2 Axes>"
            ]
          },
          "metadata": {
            "tags": [],
            "needs_background": "light"
          }
        }
      ]
    },
    {
      "cell_type": "code",
      "metadata": {
        "id": "ZTPOQogxgtjZ",
        "colab_type": "code",
        "colab": {
          "base_uri": "https://localhost:8080/",
          "height": 281
        },
        "outputId": "a0436bd3-9646-4467-9972-2051a553399e"
      },
      "source": [
        "# Show some misclassified examples\n",
        "misclassified_idx = np.where(p_test != y_test)[0]\n",
        "i = np.random.choice(misclassified_idx)\n",
        "plt.imshow(x_test[i], cmap='gray')\n",
        "plt.title(\"True label: %s Predicted: %s\" % (y_test[i], p_test[i]));\n"
      ],
      "execution_count": 39,
      "outputs": [
        {
          "output_type": "display_data",
          "data": {
            "image/png": "[encoded data removed]",
            "text/plain": [
              "<Figure size 432x288 with 1 Axes>"
            ]
          },
          "metadata": {
            "tags": [],
            "needs_background": "light"
          }
        }
      ]
    },
    {
      "cell_type": "code",
      "metadata": {
        "id": "yv0bBvaqgwDK",
        "colab_type": "code",
        "colab": {}
      },
      "source": [
        ""
      ],
      "execution_count": 0,
      "outputs": []
    }
  ]
}